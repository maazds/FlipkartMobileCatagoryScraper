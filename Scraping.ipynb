{
 "cells": [
  {
   "cell_type": "code",
   "execution_count": null,
   "id": "8f584ea0",
   "metadata": {},
   "outputs": [],
   "source": [
    "# Scraping the FlipKart Mobile Phones Data"
   ]
  },
  {
   "cell_type": "code",
   "execution_count": null,
   "id": "ec476445",
   "metadata": {},
   "outputs": [],
   "source": [
    "import pandas as pd\n",
    "import numpy as np\n",
    "import requests\n",
    "from bs4 import BeautifulSoup\n",
    "import time"
   ]
  },
  {
   "cell_type": "code",
   "execution_count": null,
   "id": "b70b093f",
   "metadata": {},
   "outputs": [],
   "source": [
    "final = pd.DataFrame()\n",
    "\n",
    "for i in range(1,42):\n",
    "    webpage = requests.get(\"https://www.flipkart.com/search?q=smartphones&page={}\".format(i)).text\n",
    "    soup = BeautifulSoup(webpage,'lxml')\n",
    "    page = soup.find_all('div',class_=\"_2kHMtA\")\n",
    "    name = []\n",
    "    link = []\n",
    "    rating = []\n",
    "    total_ratings = []\n",
    "    total_reviews =[]\n",
    "    discounted_price =[]\n",
    "    actual_price = []\n",
    "    for i in page:\n",
    "#     Name of the image\n",
    "        name.append(i.find('img',class_=\"_396cs4\")['alt'])\n",
    "#     Link of the image\n",
    "        link.append(i.find('img',class_=\"_396cs4\")['src'])\n",
    "#     Rating\n",
    "        rating.append(i.find('div',class_=\"_3LWZlK\").text if i.find('div',class_=\"_3LWZlK\") else \"N/A\")\n",
    "\n",
    "#     Total Ratings\n",
    "        \n",
    "        total_ratings.append(i.find('span',class_=\"_2_R_DZ\").find_all('span')[1].text.strip() if i.find('span',class_=\"_2_R_DZ\") else \"N/A\")\n",
    "#     Total Reviews\n",
    "        total_reviews.append(i.find('span',class_=\"_2_R_DZ\").find_all('span')[3].text.strip() if i.find('span',class_=\"_2_R_DZ\") else \"N/A\")\n",
    "#  Fetching the actuall price \n",
    "        actual_price.append(i.find('div',class_=\"_3I9_wc _27UcVY\").text.strip() if i.find('div',class_=\"_3I9_wc _27UcVY\") else \"N/A\")\n",
    "# Fetching the dicsounted price \n",
    "        discounted_price.append(i.find('div',class_=\"_30jeq3 _1_WHN1\").text.strip() if i.find('div',class_=\"_30jeq3 _1_WHN1\") else \"N/A\")\n",
    "    \n",
    "#   Making the DataFrame and storing it in data \n",
    "    data = pd.DataFrame({'Name':name,'Link':link,'Rating':rating,\n",
    "              'Total_Ratings':total_ratings,'Total_Reviews':total_reviews,\n",
    "            'Actual_Price':actual_price,'Discounted_Price':discounted_price\n",
    "             })\n",
    "    final = pd.concat([final,data],ignore_index=True)\n",
    "    # Make the loop stop for 3 sec so that scraping is not Blocked by robots \n",
    "    time.sleep(3)\n",
    "#   Converting the pandas DataFrame to a csv file \n",
    "final.to_csv('Flipcart_mobile1.csv')\n",
    "\n",
    "final"
   ]
  },
  {
   "cell_type": "code",
   "execution_count": 2,
   "id": "89ec78d1",
   "metadata": {},
   "outputs": [],
   "source": [
    "# Opening the File \n",
    "df = pd.read_csv(\"Flipcart_mobile1.csv\")\n",
    "df.head(4)"
   ]
  },
  {
   "cell_type": "code",
   "execution_count": null,
   "id": "77958d14",
   "metadata": {},
   "outputs": [],
   "source": [
    "df['Brand'] = df['Name'].str.split().str.get(0)\n",
    "df['Name'] = df['Name'].str.split(' ',n=1).str.get(1)\n",
    "df['Total_Ratings']=df['Total_Ratings'].str.split().str.get(0)\n",
    "df['Total_Reviews'] = df['Total_Reviews'].str.split().str.get(0)\n",
    "df['Actual_Price'] = df['Actual_Price'].str.split('₹').str.get(1)\n",
    "df['Actual_Price'] = df['Actual_Price'].str.replace(\",\",'')\n",
    "df['Discounted_Price']=df['Discounted_Price'].str.replace('[^\\d.]','',regex=True)\n",
    "\n",
    "df.set_index('Brand',inplace=True)"
   ]
  },
  {
   "cell_type": "code",
   "execution_count": null,
   "id": "d2dddb08",
   "metadata": {},
   "outputs": [],
   "source": [
    "df['Rating']=df['Rating'].fillna(0)\n",
    "df['Total_Ratings']=df['Total_Ratings'].fillna(0)\n",
    "df['Total_Reviews']=df['Total_Reviews'].fillna(0)\n",
    "df['Actual_Price']=df['Actual_Price'].fillna(0)\n",
    "df['Discounted_Price']=df['Discounted_Price'].fillna(0)\n"
   ]
  },
  {
   "cell_type": "code",
   "execution_count": null,
   "id": "0555de0b",
   "metadata": {},
   "outputs": [],
   "source": [
    "df['Actual_Price']=df['Actual_Price'].astype(int)\n",
    "df['Discounted_Price']=df['Discounted_Price'].astype(int)"
   ]
  },
  {
   "cell_type": "code",
   "execution_count": null,
   "id": "3faf0ff4",
   "metadata": {},
   "outputs": [],
   "source": [
    "dis = abs(((df['Actual_Price'] - df['Discounted_Price'])*100)/df['Actual_Price']).round(0)\n",
    "df['Discount %'] = dis.replace([np.inf,-np.inf],'No Discount')"
   ]
  },
  {
   "cell_type": "code",
   "execution_count": null,
   "id": "5b7a77ad",
   "metadata": {},
   "outputs": [],
   "source": [
    "final = df[['Name','Link','Rating','Total_Ratings','Total_Reviews','Actual_Price','Discounted_Price','Discount %']]"
   ]
  },
  {
   "cell_type": "code",
   "execution_count": null,
   "id": "4d4d581b",
   "metadata": {},
   "outputs": [],
   "source": [
    "final"
   ]
  }
 ],
 "metadata": {
  "kernelspec": {
   "display_name": "Python 3 (ipykernel)",
   "language": "python",
   "name": "python3"
  },
  "language_info": {
   "codemirror_mode": {
    "name": "ipython",
    "version": 3
   },
   "file_extension": ".py",
   "mimetype": "text/x-python",
   "name": "python",
   "nbconvert_exporter": "python",
   "pygments_lexer": "ipython3",
   "version": "3.10.9"
  }
 },
 "nbformat": 4,
 "nbformat_minor": 5
}
